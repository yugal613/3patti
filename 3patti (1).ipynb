{
 "cells": [
  {
   "cell_type": "code",
   "execution_count": 103,
   "id": "dda796f7-43b6-4ca4-acd0-784b6778150d",
   "metadata": {},
   "outputs": [
    {
     "name": "stdout",
     "output_type": "stream",
     "text": [
      "hello world!\n"
     ]
    }
   ],
   "source": [
    "print(\"hello world!\")"
   ]
  },
  {
   "cell_type": "code",
   "execution_count": 104,
   "id": "77bbb6e1-cd73-4954-9836-3560cccc3a79",
   "metadata": {},
   "outputs": [],
   "source": [
    "import random"
   ]
  },
  {
   "cell_type": "code",
   "execution_count": 105,
   "id": "c0136ace-5737-40b5-baa2-ed8d35749844",
   "metadata": {},
   "outputs": [],
   "source": [
    "numbers= [1,2,3,4,5,6,7,8,9,10,11,12,13]\n",
    "suits = [\"H\",\"P\",\"C\",\"E\"]\n",
    "deck=[]\n",
    "for element in suits:\n",
    "    for num in numbers:\n",
    "        card = f'{element}{num}'\n",
    "        deck.append(card)\n",
    "        "
   ]
  },
  {
   "cell_type": "code",
   "execution_count": 106,
   "id": "b309a859-4a4a-4a2b-9c42-bde9b73ad78e",
   "metadata": {},
   "outputs": [
    {
     "name": "stdout",
     "output_type": "stream",
     "text": [
      "['H1', 'H2', 'H3', 'H4', 'H5', 'H6', 'H7', 'H8', 'H9', 'H10', 'H11', 'H12', 'H13', 'P1', 'P2', 'P3', 'P4', 'P5', 'P6', 'P7', 'P8', 'P9', 'P10', 'P11', 'P12', 'P13', 'C1', 'C2', 'C3', 'C4', 'C5', 'C6', 'C7', 'C8', 'C9', 'C10', 'C11', 'C12', 'C13', 'E1', 'E2', 'E3', 'E4', 'E5', 'E6', 'E7', 'E8', 'E9', 'E10', 'E11', 'E12', 'E13']\n"
     ]
    }
   ],
   "source": [
    "print(deck)"
   ]
  },
  {
   "cell_type": "code",
   "execution_count": 107,
   "id": "67101551-4572-47ec-99a5-9df6311bc101",
   "metadata": {},
   "outputs": [
    {
     "name": "stdin",
     "output_type": "stream",
     "text": [
      "enter number of players:  1\n"
     ]
    }
   ],
   "source": [
    "num_of_player = int(input(\"enter number of players: \"))"
   ]
  },
  {
   "cell_type": "code",
   "execution_count": 108,
   "id": "812fd6bc-805c-4500-9e81-4c6c2984fa66",
   "metadata": {},
   "outputs": [
    {
     "name": "stdout",
     "output_type": "stream",
     "text": [
      "['E10', 'C8', 'C2']\n"
     ]
    }
   ],
   "source": [
    "players=0\n",
    "while players < num_of_player:\n",
    "    x = random.sample(deck,3)\n",
    "    print(x)\n",
    "    for selected_cards in x:\n",
    "        deck.remove(selected_cards)\n",
    "    players = players+1\n",
    "    "
   ]
  },
  {
   "cell_type": "code",
   "execution_count": 109,
   "id": "95ea1982-1709-4a70-8a02-abeeb71f9770",
   "metadata": {},
   "outputs": [],
   "source": [
    "from tkinter import *"
   ]
  },
  {
   "cell_type": "code",
   "execution_count": null,
   "id": "2bec20de-db17-41e5-95a9-22f2f6db3037",
   "metadata": {},
   "outputs": [
    {
     "name": "stdout",
     "output_type": "stream",
     "text": [
      "E10\n",
      "C8\n",
      "C2\n"
     ]
    }
   ],
   "source": [
    "import tkinter as tk\n",
    "\n",
    "class Card(tk.Canvas):\n",
    "    def __init__(self, master, value, width=100, height=150):\n",
    "        super().__init__(master, width=width, height=height, bg=\"white\")\n",
    "\n",
    "        # Draw card outline\n",
    "        self.create_rectangle(5, 5, width-5, height-5, outline=\"black\")\n",
    "\n",
    "        # Split the value into suit and rank\n",
    "        suit = value[0]  # First character represents the suit\n",
    "        rank = value[1:]  # Rest of the characters represent the rank\n",
    "\n",
    "        # Determine suit symbol based on suit\n",
    "        if suit == 'H':\n",
    "            suit_symbol = \"♥\"  # Heart\n",
    "            color = \"red\"\n",
    "        elif suit == 'P':\n",
    "            suit_symbol = \"♠\"  # Spade\n",
    "            color = \"black\"\n",
    "        elif suit == 'C':\n",
    "            suit_symbol = \"♣\"  # Club\n",
    "            color = \"black\"\n",
    "        elif suit == 'E':\n",
    "            suit_symbol = \"♦\"  # Diamond\n",
    "            color = \"red\"\n",
    "        else:\n",
    "            raise ValueError(\"Invalid suit\")\n",
    "\n",
    "        # Display rank and suit symbol in the center\n",
    "        self.create_text(width/2, height/3, text=rank, font=(\"Helvetica\", 24), fill=color)\n",
    "        self.create_text(width/2, height/1.5, text=suit_symbol, font=(\"Helvetica\", 24), fill=color)\n",
    "\n",
    "def main():\n",
    "    root = tk.Tk()\n",
    "    for c in x:\n",
    "        print(c)\n",
    "        card = Card(root, value=c)\n",
    "        card.pack()\n",
    "    root.mainloop()\n",
    "\n",
    "if __name__ == \"__main__\":\n",
    "    main()\n"
   ]
  },
  {
   "cell_type": "code",
   "execution_count": null,
   "id": "7a3eaf84-4002-4e6a-a41f-62bf6ac987b9",
   "metadata": {},
   "outputs": [],
   "source": []
  }
 ],
 "metadata": {
  "kernelspec": {
   "display_name": "Python 3 (ipykernel)",
   "language": "python",
   "name": "python3"
  },
  "language_info": {
   "codemirror_mode": {
    "name": "ipython",
    "version": 3
   },
   "file_extension": ".py",
   "mimetype": "text/x-python",
   "name": "python",
   "nbconvert_exporter": "python",
   "pygments_lexer": "ipython3",
   "version": "3.11.7"
  }
 },
 "nbformat": 4,
 "nbformat_minor": 5
}
